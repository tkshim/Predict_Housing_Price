{
 "cells": [
  {
   "cell_type": "code",
   "execution_count": null,
   "metadata": {
    "collapsed": true
   },
   "outputs": [],
   "source": [
    "'''\n",
    "・外れ値は除去済み\n",
    "・建築年は経過年数に変更済み"
   ]
  },
  {
   "cell_type": "markdown",
   "metadata": {},
   "source": [
    "# データ読み込み"
   ]
  },
  {
   "cell_type": "code",
   "execution_count": 1,
   "metadata": {
    "collapsed": false
   },
   "outputs": [],
   "source": [
    "import numpy as np\n",
    "import pandas as pd\n",
    "raw_data = pd.read_csv('house_data_out.csv')"
   ]
  },
  {
   "cell_type": "markdown",
   "metadata": {},
   "source": [
    "# 欠損値処理"
   ]
  },
  {
   "cell_type": "code",
   "execution_count": 2,
   "metadata": {
    "collapsed": false
   },
   "outputs": [
    {
     "name": "stdout",
     "output_type": "stream",
     "text": [
      "Housing dataset has 825 data points with 5 variables each.\n"
     ]
    },
    {
     "data": {
      "text/html": [
       "<div>\n",
       "<table border=\"1\" class=\"dataframe\">\n",
       "  <thead>\n",
       "    <tr style=\"text-align: right;\">\n",
       "      <th></th>\n",
       "      <th>price</th>\n",
       "      <th>size</th>\n",
       "      <th>district</th>\n",
       "      <th>year</th>\n",
       "      <th>rooms</th>\n",
       "    </tr>\n",
       "  </thead>\n",
       "  <tbody>\n",
       "    <tr>\n",
       "      <th>0</th>\n",
       "      <td>700</td>\n",
       "      <td>40.0</td>\n",
       "      <td>1.0</td>\n",
       "      <td>118</td>\n",
       "      <td>1</td>\n",
       "    </tr>\n",
       "    <tr>\n",
       "      <th>1</th>\n",
       "      <td>1820</td>\n",
       "      <td>46.1</td>\n",
       "      <td>1.0</td>\n",
       "      <td>113</td>\n",
       "      <td>2</td>\n",
       "    </tr>\n",
       "    <tr>\n",
       "      <th>2</th>\n",
       "      <td>1750</td>\n",
       "      <td>41.0</td>\n",
       "      <td>1.0</td>\n",
       "      <td>94</td>\n",
       "      <td>3</td>\n",
       "    </tr>\n",
       "    <tr>\n",
       "      <th>3</th>\n",
       "      <td>1900</td>\n",
       "      <td>55.0</td>\n",
       "      <td>1.0</td>\n",
       "      <td>49</td>\n",
       "      <td>3</td>\n",
       "    </tr>\n",
       "    <tr>\n",
       "      <th>4</th>\n",
       "      <td>1950</td>\n",
       "      <td>46.0</td>\n",
       "      <td>1.0</td>\n",
       "      <td>58</td>\n",
       "      <td>3</td>\n",
       "    </tr>\n",
       "  </tbody>\n",
       "</table>\n",
       "</div>"
      ],
      "text/plain": [
       "   price  size  district  year  rooms\n",
       "0    700  40.0       1.0   118      1\n",
       "1   1820  46.1       1.0   113      2\n",
       "2   1750  41.0       1.0    94      3\n",
       "3   1900  55.0       1.0    49      3\n",
       "4   1950  46.0       1.0    58      3"
      ]
     },
     "execution_count": 2,
     "metadata": {},
     "output_type": "execute_result"
    }
   ],
   "source": [
    "#dropnaを使って欠損値のレコードを削除\n",
    "data = raw_data.dropna(how ='any')\n",
    "print \"Housing dataset has {} data points with {} variables each.\".format(*data.shape)\n",
    "type(data)\n",
    "data.head()"
   ]
  },
  {
   "cell_type": "markdown",
   "metadata": {},
   "source": [
    "#"
   ]
  },
  {
   "cell_type": "markdown",
   "metadata": {},
   "source": [
    "# 1. 単数説明変数モデル"
   ]
  },
  {
   "cell_type": "markdown",
   "metadata": {},
   "source": [
    "# (1) 特徴データとラベルデータに分割"
   ]
  },
  {
   "cell_type": "code",
   "execution_count": 3,
   "metadata": {
    "collapsed": false
   },
   "outputs": [
    {
     "data": {
      "text/plain": [
       "(825,)"
      ]
     },
     "execution_count": 3,
     "metadata": {},
     "output_type": "execute_result"
    }
   ],
   "source": [
    "prices     = data['price']\n",
    "features = data['size']\n",
    "features.shape"
   ]
  },
  {
   "cell_type": "markdown",
   "metadata": {},
   "source": [
    "# (2) train_test_splitを使って学習とテスト用データセットを作成"
   ]
  },
  {
   "cell_type": "code",
   "execution_count": 4,
   "metadata": {
    "collapsed": false
   },
   "outputs": [
    {
     "name": "stderr",
     "output_type": "stream",
     "text": [
      "//anaconda/envs/py27env/lib/python2.7/site-packages/sklearn/cross_validation.py:44: DeprecationWarning: This module was deprecated in version 0.18 in favor of the model_selection module into which all the refactored classes and functions are moved. Also note that the interface of the new CV iterators are different from that of this module. This module will be removed in 0.20.\n",
      "  \"This module will be removed in 0.20.\", DeprecationWarning)\n"
     ]
    }
   ],
   "source": [
    "from sklearn.cross_validation import train_test_split\n",
    "x_train, x_test, y_train, y_test = train_test_split(features, prices, test_size=0.2, random_state=123)"
   ]
  },
  {
   "cell_type": "markdown",
   "metadata": {},
   "source": [
    "# (3) データ微調整"
   ]
  },
  {
   "cell_type": "code",
   "execution_count": 5,
   "metadata": {
    "collapsed": false
   },
   "outputs": [
    {
     "name": "stdout",
     "output_type": "stream",
     "text": [
      "(660,)\n",
      "(660,)\n",
      "(660, 1)\n",
      "(660, 1)\n",
      "\n",
      "(165,)\n",
      "(165,)\n",
      "(165, 1)\n",
      "(165, 1)\n"
     ]
    },
    {
     "name": "stderr",
     "output_type": "stream",
     "text": [
      "/anaconda/envs/py27env/lib/python2.7/site-packages/ipykernel/__main__.py:3: FutureWarning: reshape is deprecated and will raise in a subsequent release. Please use .values.reshape(...) instead\n",
      "  app.launch_new_instance()\n",
      "/anaconda/envs/py27env/lib/python2.7/site-packages/ipykernel/__main__.py:4: FutureWarning: reshape is deprecated and will raise in a subsequent release. Please use .values.reshape(...) instead\n",
      "/anaconda/envs/py27env/lib/python2.7/site-packages/ipykernel/__main__.py:10: FutureWarning: reshape is deprecated and will raise in a subsequent release. Please use .values.reshape(...) instead\n",
      "/anaconda/envs/py27env/lib/python2.7/site-packages/ipykernel/__main__.py:11: FutureWarning: reshape is deprecated and will raise in a subsequent release. Please use .values.reshape(...) instead\n"
     ]
    }
   ],
   "source": [
    "print x_train.shape\n",
    "print y_train.shape\n",
    "x_train = x_train.reshape((660,1))\n",
    "y_train = y_train.reshape((660,1))\n",
    "print x_train.shape\n",
    "print y_train.shape\n",
    "print\n",
    "print x_test.shape\n",
    "print y_test.shape\n",
    "x_test  = x_test.reshape((165,1))\n",
    "y_test  = y_test.reshape((165,1))\n",
    "print x_test.shape\n",
    "print y_test.shape"
   ]
  },
  {
   "cell_type": "markdown",
   "metadata": {},
   "source": [
    "# (4) モデル評価のため決定係数R2スコアの関数を作成"
   ]
  },
  {
   "cell_type": "code",
   "execution_count": 6,
   "metadata": {
    "collapsed": true
   },
   "outputs": [],
   "source": [
    "from sklearn.metrics import r2_score\n",
    "def performance_metric(y_test, predicted):\n",
    "    score = r2_score(y_test, predicted) \n",
    "    return score"
   ]
  },
  {
   "cell_type": "markdown",
   "metadata": {},
   "source": [
    "# (5) 単回帰モデルの作成及びR2結果"
   ]
  },
  {
   "cell_type": "code",
   "execution_count": 7,
   "metadata": {
    "collapsed": false
   },
   "outputs": [
    {
     "data": {
      "text/plain": [
       "0.81057936944842068"
      ]
     },
     "execution_count": 7,
     "metadata": {},
     "output_type": "execute_result"
    }
   ],
   "source": [
    "from sklearn import linear_model\n",
    "model = linear_model.LinearRegression()\n",
    "model.fit(x_train, y_train)\n",
    "predicted = model.predict(x_test)\n",
    "performance_metric(y_test, predicted)"
   ]
  },
  {
   "cell_type": "markdown",
   "metadata": {},
   "source": [
    "#"
   ]
  },
  {
   "cell_type": "markdown",
   "metadata": {},
   "source": [
    "# 2. 複数説明変数モデル(DT, RF, 重回帰)"
   ]
  },
  {
   "cell_type": "markdown",
   "metadata": {},
   "source": [
    "# (1) 特徴データとラベルデータに分割"
   ]
  },
  {
   "cell_type": "code",
   "execution_count": 8,
   "metadata": {
    "collapsed": false
   },
   "outputs": [
    {
     "name": "stdout",
     "output_type": "stream",
     "text": [
      "(825, 4)\n"
     ]
    },
    {
     "data": {
      "text/html": [
       "<div>\n",
       "<table border=\"1\" class=\"dataframe\">\n",
       "  <thead>\n",
       "    <tr style=\"text-align: right;\">\n",
       "      <th></th>\n",
       "      <th>size</th>\n",
       "      <th>district</th>\n",
       "      <th>year</th>\n",
       "      <th>rooms</th>\n",
       "    </tr>\n",
       "  </thead>\n",
       "  <tbody>\n",
       "    <tr>\n",
       "      <th>0</th>\n",
       "      <td>40.0</td>\n",
       "      <td>1.0</td>\n",
       "      <td>118</td>\n",
       "      <td>1</td>\n",
       "    </tr>\n",
       "    <tr>\n",
       "      <th>1</th>\n",
       "      <td>46.1</td>\n",
       "      <td>1.0</td>\n",
       "      <td>113</td>\n",
       "      <td>2</td>\n",
       "    </tr>\n",
       "    <tr>\n",
       "      <th>2</th>\n",
       "      <td>41.0</td>\n",
       "      <td>1.0</td>\n",
       "      <td>94</td>\n",
       "      <td>3</td>\n",
       "    </tr>\n",
       "    <tr>\n",
       "      <th>3</th>\n",
       "      <td>55.0</td>\n",
       "      <td>1.0</td>\n",
       "      <td>49</td>\n",
       "      <td>3</td>\n",
       "    </tr>\n",
       "    <tr>\n",
       "      <th>4</th>\n",
       "      <td>46.0</td>\n",
       "      <td>1.0</td>\n",
       "      <td>58</td>\n",
       "      <td>3</td>\n",
       "    </tr>\n",
       "  </tbody>\n",
       "</table>\n",
       "</div>"
      ],
      "text/plain": [
       "   size  district  year  rooms\n",
       "0  40.0       1.0   118      1\n",
       "1  46.1       1.0   113      2\n",
       "2  41.0       1.0    94      3\n",
       "3  55.0       1.0    49      3\n",
       "4  46.0       1.0    58      3"
      ]
     },
     "execution_count": 8,
     "metadata": {},
     "output_type": "execute_result"
    }
   ],
   "source": [
    "from pandas import Series, DataFrame\n",
    "prices = data['price']\n",
    "features = DataFrame(data,columns=['size', 'district', 'year', 'rooms'])\n",
    "print features.shape\n",
    "features.head()"
   ]
  },
  {
   "cell_type": "markdown",
   "metadata": {},
   "source": [
    "# (2) max_depthおよび学習データ増加に伴うR2スコア"
   ]
  },
  {
   "cell_type": "code",
   "execution_count": 42,
   "metadata": {
    "collapsed": false
   },
   "outputs": [
    {
     "data": {
      "text/plain": [
       "'\\nhttps://github.com/udacity/machine-learning/blob/master/projects/boston_housing/visuals.py\\n'"
      ]
     },
     "execution_count": 42,
     "metadata": {},
     "output_type": "execute_result"
    }
   ],
   "source": [
    "import visuals as vs\n",
    "'''\n",
    "https://github.com/udacity/machine-learning/blob/master/projects/boston_housing/visuals.py\n",
    "'''"
   ]
  },
  {
   "cell_type": "code",
   "execution_count": 41,
   "metadata": {
    "collapsed": false
   },
   "outputs": [
    {
     "name": "stderr",
     "output_type": "stream",
     "text": [
      "//anaconda/envs/py27env/lib/python2.7/site-packages/sklearn/learning_curve.py:23: DeprecationWarning: This module was deprecated in version 0.18 in favor of the model_selection module into which all the functions are moved. This module will be removed in 0.20\n",
      "  DeprecationWarning)\n"
     ]
    },
    {
     "data": {
      "image/png": "[encoded data removed]",
      "text/plain": [
       "<matplotlib.figure.Figure at 0x114c71550>"
      ]
     },
     "metadata": {},
     "output_type": "display_data"
    },
    {
     "data": {
      "image/png": "[encoded data removed]",
      "text/plain": [
       "<matplotlib.figure.Figure at 0x114c716d0>"
      ]
     },
     "metadata": {},
     "output_type": "display_data"
    }
   ],
   "source": [
    "vs.ModelLearning(features, prices)\n",
    "vs.ModelComplexity(x_train, y_train)"
   ]
  },
  {
   "cell_type": "markdown",
   "metadata": {},
   "source": [
    "# (3) train_test_splitを使って学習とテスト用データセットを作成"
   ]
  },
  {
   "cell_type": "code",
   "execution_count": 17,
   "metadata": {
    "collapsed": false
   },
   "outputs": [],
   "source": [
    "from sklearn.cross_validation import train_test_split\n",
    "x_train, x_test, y_train, y_test = train_test_split(features, prices, test_size=0.2, random_state=123)"
   ]
  },
  {
   "cell_type": "markdown",
   "metadata": {},
   "source": [
    "# (4) GridSearchCVにて最適なパラメータを確認"
   ]
  },
  {
   "cell_type": "markdown",
   "metadata": {},
   "source": [
    "# 4-1. DecisionTreeRegressor"
   ]
  },
  {
   "cell_type": "code",
   "execution_count": 18,
   "metadata": {
    "collapsed": false
   },
   "outputs": [
    {
     "name": "stdout",
     "output_type": "stream",
     "text": [
      "Parameter 'max_depth' is 6 for the optimal model.\n",
      "min_samples_split' is 2 for the optimal model.\n"
     ]
    }
   ],
   "source": [
    "from sklearn.metrics import make_scorer\n",
    "from sklearn.model_selection import ShuffleSplit, GridSearchCV\n",
    "\n",
    "from sklearn.tree import DecisionTreeRegressor\n",
    "\n",
    "def fit_model_DT(x, y):\n",
    "    #　学習とテストデータに分割\n",
    "    cv_sets = ShuffleSplit(n_splits = 10, test_size = 0.20, random_state = 0)\n",
    "\n",
    "    # 予測モデルのオブジェクトを作成\n",
    "    regressor = DecisionTreeRegressor(random_state=0)\n",
    "    \n",
    "    # チューニング・パラメータ\n",
    "    params = {'max_depth' : [1,2,3,4,5,6,7,8,9,10], 'min_samples_split': [2,4,6]}\n",
    "    \n",
    "    # スコアのオブジェクトを作成\n",
    "    scoring_fnc = make_scorer(performance_metric)\n",
    "\n",
    "    # grid search のobject作成\n",
    "    grid = GridSearchCV(regressor, param_grid = params, scoring = scoring_fnc, cv = cv_sets)\n",
    "\n",
    "    # 特徴データとラベルデータをGridSearchオブジェクトに適用\n",
    "    grid = grid.fit(x, y)\n",
    "\n",
    "    return grid.best_estimator_\n",
    "\n",
    "# GridSearchCV実行用の関数に特徴データとラベルデータを適用\n",
    "reg_DT = fit_model_DT(features, prices)\n",
    "# 最適値を返す\n",
    "print \"Parameter 'max_depth' is {} for the optimal model.\".format(reg_DT.get_params()['max_depth'])\n",
    "print \"min_samples_split' is {} for the optimal model.\".format(reg_DT.get_params()['min_samples_split'])"
   ]
  },
  {
   "cell_type": "markdown",
   "metadata": {},
   "source": [
    "# R2結果確認(max_depth=6, min_samples_split=2)"
   ]
  },
  {
   "cell_type": "code",
   "execution_count": 22,
   "metadata": {
    "collapsed": false
   },
   "outputs": [
    {
     "data": {
      "text/plain": [
       "0.86025491269817678"
      ]
     },
     "execution_count": 22,
     "metadata": {},
     "output_type": "execute_result"
    }
   ],
   "source": [
    "model_DT =  DecisionTreeRegressor(max_depth=6, min_samples_split=2)\n",
    "model_DT.fit(x_train, y_train)\n",
    "predicted = model_DT.predict(x_test)\n",
    "performance_metric(y_test, predicted)"
   ]
  },
  {
   "cell_type": "markdown",
   "metadata": {},
   "source": [
    "# 4-2. RandomForestRegressor"
   ]
  },
  {
   "cell_type": "code",
   "execution_count": 80,
   "metadata": {
    "collapsed": false
   },
   "outputs": [
    {
     "name": "stdout",
     "output_type": "stream",
     "text": [
      "Parameter 'max_depth' is 8 for the optimal model.\n",
      "min_samples_split' is 2 for the optimal model.\n",
      "n_estimators' is 10 for the optimal model.\n"
     ]
    }
   ],
   "source": [
    "from sklearn.metrics import make_scorer\n",
    "from sklearn.model_selection import ShuffleSplit, GridSearchCV\n",
    "\n",
    "from sklearn.ensemble import RandomForestRegressor\n",
    "\n",
    "def fit_model_RF(x, y):\n",
    "    #　学習とテストデータに分割\n",
    "    cv_sets = ShuffleSplit(n_splits = 10, test_size = 0.20, random_state = 0)\n",
    "\n",
    "    # 予測モデルのオブジェクトを作成\n",
    "    regressor = RandomForestRegressor(random_state=0)\n",
    "\n",
    "    \n",
    "    # チューニング・パラメータ\n",
    "    params = {'max_depth' : [1,2,3,4,5,6,7,8,9,10], 'min_samples_split': [2,4,6], 'n_estimators': [5,10,15]}\n",
    "    \n",
    "    # スコアのオブジェクトを作成\n",
    "    scoring_fnc = make_scorer(performance_metric)\n",
    "\n",
    "    # grid search のobject作成\n",
    "    grid = GridSearchCV(regressor, param_grid = params, scoring = scoring_fnc, cv = cv_sets)\n",
    "\n",
    "    # 特徴データとラベルデータをGridSearchオブジェクトに適用\n",
    "    grid = grid.fit(x, y)\n",
    "\n",
    "    return grid.best_estimator_\n",
    "\n",
    "# GridSearchCV実行用の関数に特徴データとラベルデータを適用\n",
    "reg_RF = fit_model_RF(features, prices)\n",
    "\n",
    "# 最適値を返す\n",
    "print \"Parameter 'max_depth' is {} for the optimal model.\".format(reg_RF.get_params()['max_depth'])\n",
    "print \"min_samples_split' is {} for the optimal model.\".format(reg_RF.get_params()['min_samples_split'])\n",
    "print \"n_estimators' is {} for the optimal model.\".format(reg_RF.get_params()['n_estimators'])"
   ]
  },
  {
   "cell_type": "markdown",
   "metadata": {},
   "source": [
    "# R2結果確認(max_depth=8, min_samples_split=2, n_estimators=10)"
   ]
  },
  {
   "cell_type": "code",
   "execution_count": 74,
   "metadata": {
    "collapsed": false
   },
   "outputs": [
    {
     "data": {
      "text/plain": [
       "0.67307733757574018"
      ]
     },
     "execution_count": 74,
     "metadata": {},
     "output_type": "execute_result"
    }
   ],
   "source": [
    "model_RF =  RandomForestRegressor(max_depth=8, min_samples_split=2, n_estimators=10)\n",
    "model_RF.fit(x_train, y_train)\n",
    "predicted = model_RF.predict(x_test)\n",
    "performance_metric(y_test, predicted)"
   ]
  },
  {
   "cell_type": "markdown",
   "metadata": {},
   "source": [
    "# 〜 参考 〜"
   ]
  },
  {
   "cell_type": "markdown",
   "metadata": {},
   "source": [
    "# 4-3. linearRegression　重回帰分析"
   ]
  },
  {
   "cell_type": "code",
   "execution_count": 81,
   "metadata": {
    "collapsed": false
   },
   "outputs": [
    {
     "data": {
      "text/plain": [
       "LinearRegression(copy_X=True, fit_intercept=True, n_jobs=1, normalize=False)"
      ]
     },
     "execution_count": 81,
     "metadata": {},
     "output_type": "execute_result"
    }
   ],
   "source": [
    "from sklearn.metrics import make_scorer\n",
    "from sklearn.model_selection import ShuffleSplit, GridSearchCV\n",
    "\n",
    "from sklearn import linear_model\n",
    "\n",
    "def fit_model_LM(x, y):\n",
    "    #　学習とテストデータに分割\n",
    "    cv_sets = ShuffleSplit(n_splits = 10, test_size = 0.20, random_state = 0)\n",
    "\n",
    "    # 予測モデルのオブジェクトを作成\n",
    "    regressor =  linear_model.LinearRegression()\n",
    "\n",
    "    \n",
    "    # チューニング・パラメータ\n",
    "    params = {}\n",
    "    \n",
    "    # スコアのオブジェクトを作成\n",
    "    scoring_fnc = make_scorer(performance_metric)\n",
    "\n",
    "    # grid search のobject作成\n",
    "    grid = GridSearchCV(regressor, param_grid = params, scoring = scoring_fnc, cv = cv_sets)\n",
    "\n",
    "    # 特徴データとラベルデータをGridSearchオブジェクトに適用\n",
    "    grid = grid.fit(x, y)\n",
    "\n",
    "    return grid.best_estimator_\n",
    "\n",
    "# GridSearchCV実行用の関数に特徴データとラベルデータを適用\n",
    "reg_LM = fit_model_LM(features, prices)\n",
    "\n",
    "# 最適値を返す\n",
    "reg_LM"
   ]
  },
  {
   "cell_type": "markdown",
   "metadata": {},
   "source": [
    "# R2結果確認"
   ]
  },
  {
   "cell_type": "code",
   "execution_count": 82,
   "metadata": {
    "collapsed": false
   },
   "outputs": [
    {
     "data": {
      "text/plain": [
       "0.82361119781370762"
      ]
     },
     "execution_count": 82,
     "metadata": {},
     "output_type": "execute_result"
    }
   ],
   "source": [
    "model_LM =  linear_model.LinearRegression()\n",
    "model_LM.fit(x_train, y_train)\n",
    "predicted = model_LM.predict(x_test)\n",
    "performance_metric(y_test, predicted)"
   ]
  },
  {
   "cell_type": "markdown",
   "metadata": {
    "collapsed": true
   },
   "source": [
    "# 4-4. KNeighborsRegressor"
   ]
  },
  {
   "cell_type": "code",
   "execution_count": 26,
   "metadata": {
    "collapsed": false
   },
   "outputs": [
    {
     "name": "stdout",
     "output_type": "stream",
     "text": [
      "Parameter 'max_depth' is 5 for the optimal model.\n"
     ]
    }
   ],
   "source": [
    "from sklearn.metrics import make_scorer\n",
    "from sklearn.model_selection import ShuffleSplit, GridSearchCV\n",
    "\n",
    "from sklearn.neighbors import KNeighborsRegressor\n",
    "\n",
    "def fit_model_KN(x, y):\n",
    "    #　学習とテストデータに分割\n",
    "    cv_sets = ShuffleSplit(n_splits = 10, test_size = 0.20, random_state = 0)\n",
    "\n",
    "    # 予測モデルのオブジェクトを作成\n",
    "    regressor =  KNeighborsRegressor()\n",
    "\n",
    "    \n",
    "    # チューニング・パラメータ\n",
    "    params = {'n_neighbors':  [2,5,7,10,15]}\n",
    "    \n",
    "    # スコアのオブジェクトを作成\n",
    "    scoring_fnc = make_scorer(performance_metric)\n",
    "\n",
    "    # grid search のobject作成\n",
    "    grid = GridSearchCV(regressor, param_grid = params, scoring = scoring_fnc, cv = cv_sets)\n",
    "\n",
    "    # 特徴データとラベルデータをGridSearchオブジェクトに適用\n",
    "    grid = grid.fit(x, y)\n",
    "\n",
    "    return grid.best_estimator_\n",
    "\n",
    "# GridSearchCV実行用の関数に特徴データとラベルデータを適用\n",
    "reg_KN = fit_model_KN(features, prices)\n",
    "\n",
    "# 最適値を返す\n",
    "print \"Parameter 'max_depth' is {} for the optimal model.\".format(reg_KN.get_params()['n_neighbors'])"
   ]
  },
  {
   "cell_type": "markdown",
   "metadata": {},
   "source": [
    "# R2結果確認(n_neighbors=5)"
   ]
  },
  {
   "cell_type": "code",
   "execution_count": 38,
   "metadata": {
    "collapsed": false
   },
   "outputs": [
    {
     "data": {
      "text/plain": [
       "0.69406151394243132"
      ]
     },
     "execution_count": 38,
     "metadata": {},
     "output_type": "execute_result"
    }
   ],
   "source": [
    "model_KN = KNeighborsRegressor(n_neighbors=5)\n",
    "model_KN.fit(x_train, y_train)\n",
    "predicted = model_KN.predict(x_test)\n",
    "performance_metric(y_test, predicted)"
   ]
  },
  {
   "cell_type": "code",
   "execution_count": null,
   "metadata": {
    "collapsed": true
   },
   "outputs": [],
   "source": []
  }
 ],
 "metadata": {
  "anaconda-cloud": {},
  "kernelspec": {
   "display_name": "Python [py27env]",
   "language": "python",
   "name": "Python [py27env]"
  },
  "language_info": {
   "codemirror_mode": {
    "name": "ipython",
    "version": 2
   },
   "file_extension": ".py",
   "mimetype": "text/x-python",
   "name": "python",
   "nbconvert_exporter": "python",
   "pygments_lexer": "ipython2",
   "version": "2.7.13"
  }
 },
 "nbformat": 4,
 "nbformat_minor": 0
}
